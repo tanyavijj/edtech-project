{
  "nbformat": 4,
  "nbformat_minor": 0,
  "metadata": {
    "colab": {
      "provenance": [],
      "mount_file_id": "1voYC25-gdg_qym9whNTuSktWy_jOGpDX",
      "authorship_tag": "ABX9TyPs8wsVL1y3Bqzk+Go0jJNV",
      "include_colab_link": true
    },
    "kernelspec": {
      "name": "python3",
      "display_name": "Python 3"
    },
    "language_info": {
      "name": "python"
    }
  },
  "cells": [
    {
      "cell_type": "markdown",
      "metadata": {
        "id": "view-in-github",
        "colab_type": "text"
      },
      "source": [
        "<a href=\"https://colab.research.google.com/github/tanyavijj/edtech-project/blob/main/msvd_Untitled33.ipynb\" target=\"_parent\"><img src=\"https://colab.research.google.com/assets/colab-badge.svg\" alt=\"Open In Colab\"/></a>"
      ]
    },
    {
      "cell_type": "code",
      "execution_count": null,
      "metadata": {
        "colab": {
          "base_uri": "https://localhost:8080/"
        },
        "id": "xW8SIAIGbDA1",
        "outputId": "3cd816b4-24a6-4510-c77b-67748ecbeca9"
      },
      "outputs": [
        {
          "output_type": "stream",
          "name": "stdout",
          "text": [
            "Drive already mounted at /content/drive; to attempt to forcibly remount, call drive.mount(\"/content/drive\", force_remount=True).\n"
          ]
        }
      ],
      "source": [
        "# Mount Google Drive\n",
        "from google.colab import drive\n",
        "drive.mount('/content/drive')"
      ]
    },
    {
      "cell_type": "code",
      "source": [
        "import os\n",
        "import cv2\n",
        "import torch\n",
        "import tarfile\n",
        "import pandas as pd\n",
        "from PIL import Image\n",
        "import torchvision.transforms as transforms\n",
        "from transformers import CLIPModel, CLIPProcessor, CLIPTokenizer\n",
        "from IPython.display import display"
      ],
      "metadata": {
        "id": "K-mAcUDUjMka"
      },
      "execution_count": null,
      "outputs": []
    },
    {
      "cell_type": "code",
      "source": [
        "# Define Paths - Change This Based on Your Drive Location\n",
        "base_folder = \"/content/drive/MyDrive/iit data/\"\n",
        "tar_file = os.path.join(base_folder, \"YouTubeClips.tar\")\n",
        "annotation_file = os.path.join(base_folder, \"annotations.txt\")\n",
        "frame_output_folder = os.path.join(base_folder, \"frames\")"
      ],
      "metadata": {
        "id": "0Js9vWKohJH3"
      },
      "execution_count": null,
      "outputs": []
    },
    {
      "cell_type": "code",
      "source": [
        "# Extract TAR File if Not Already Extracted\n",
        "if not os.path.exists(frame_output_folder):\n",
        "    os.makedirs(frame_output_folder, exist_ok=True)\n",
        "    with tarfile.open(tar_file, \"r\") as tar:\n",
        "        tar.extractall(path=frame_output_folder)\n",
        "    print(f\"Extracted TAR file to {frame_output_folder}\")\n",
        "else:\n",
        "    print(\"Frames folder already exists.\")"
      ],
      "metadata": {
        "colab": {
          "base_uri": "https://localhost:8080/"
        },
        "id": "9o-PkIG4jbL9",
        "outputId": "18ddac3f-f16e-483f-e124-86413b53c7bc"
      },
      "execution_count": null,
      "outputs": [
        {
          "output_type": "stream",
          "name": "stdout",
          "text": [
            "✅ Frames folder already exists.\n"
          ]
        }
      ]
    },
    {
      "cell_type": "code",
      "source": [
        "#  Extract Frames from Videos\n",
        "def extract_frames(video_folder, output_folder, fps=1):\n",
        "    os.makedirs(output_folder, exist_ok=True)\n",
        "\n",
        "    for video_file in os.listdir(video_folder):\n",
        "        if video_file.endswith(\".mp4\") or video_file.endswith(\".avi\"):\n",
        "            video_path = os.path.join(video_folder, video_file)\n",
        "            cap = cv2.VideoCapture(video_path)\n",
        "            frame_rate = int(cap.get(cv2.CAP_PROP_FPS))\n",
        "            frame_id = 0\n",
        "\n",
        "            while cap.isOpened():\n",
        "                ret, frame = cap.read()\n",
        "                if not ret:\n",
        "                    break\n",
        "                if frame_id % frame_rate == 0:  # Extract 1 frame per second\n",
        "                    frame_filename = os.path.join(output_folder, f\"{video_file.split('.')[0]}_frame_{frame_id}.jpg\")\n",
        "                    cv2.imwrite(frame_filename, frame)\n",
        "                frame_id += 1\n",
        "\n",
        "            cap.release()\n",
        "            print(f\" Frames extracted for {video_file}\")"
      ],
      "metadata": {
        "id": "yT17zNEGjbId"
      },
      "execution_count": null,
      "outputs": []
    },
    {
      "cell_type": "code",
      "source": [
        "#  Run Frame Extraction\n",
        "extract_frames(frame_output_folder, frame_output_folder)"
      ],
      "metadata": {
        "id": "ZQ6t2PDmjbGR"
      },
      "execution_count": null,
      "outputs": []
    },
    {
      "cell_type": "code",
      "source": [
        "import os\n",
        "print(os.listdir(\"/content/drive/MyDrive/iit data/\"))\n"
      ],
      "metadata": {
        "colab": {
          "base_uri": "https://localhost:8080/"
        },
        "id": "c4hG-FHakjtX",
        "outputId": "16e85876-1b5d-4ced-a6da-3471f8e7b734"
      },
      "execution_count": null,
      "outputs": [
        {
          "output_type": "stream",
          "name": "stdout",
          "text": [
            "['annotations.txt', 'YouTubeClips.tar', 'videos', 'image_captions.csv', 'frames']\n"
          ]
        }
      ]
    },
    {
      "cell_type": "code",
      "source": [
        "import os\n",
        "\n",
        "frame_output_folder = \"/content/drive/MyDrive/iit data/frames\"\n",
        "frame_files = os.listdir(frame_output_folder)\n",
        "\n",
        "if len(frame_files) == 0:\n",
        "    print(\" No frames found! Frame extraction failed.\")\n",
        "else:\n",
        "    print(f\" {len(frame_files)} frames found.\")\n",
        "    print(\"First 5 frame files:\", frame_files[:5])  # Print first few extracted frames\n"
      ],
      "metadata": {
        "colab": {
          "base_uri": "https://localhost:8080/"
        },
        "id": "_DE1l8FTk2ZT",
        "outputId": "b8bc5eaa-6402-4fba-d0df-076a9f8eb73a"
      },
      "execution_count": null,
      "outputs": [
        {
          "output_type": "stream",
          "name": "stdout",
          "text": [
            "✅ 20929 frames found.\n",
            "🖼️ First 5 frame files: ['mJ9eRvxjLc4_0_16_frame_0.jpg', 'mJ9eRvxjLc4_0_16_frame_29.jpg', 'mJ9eRvxjLc4_0_16_frame_58.jpg', 'mJ9eRvxjLc4_0_16_frame_87.jpg', 'mJ9eRvxjLc4_0_16_frame_116.jpg']\n"
          ]
        }
      ]
    },
    {
      "cell_type": "code",
      "source": [
        "import os\n",
        "\n",
        "video_folder = \"/content/drive/MyDrive/iit data/videos\"\n",
        "videos = os.listdir(video_folder)\n",
        "\n",
        "if len(videos) == 0:\n",
        "    print(\" No videos found! Extraction failed.\")\n",
        "else:\n",
        "    print(f\" {len(videos)} videos found.\")\n",
        "    print(\" First 5 videos:\", videos[:5])  # Show first few videos"
      ],
      "metadata": {
        "colab": {
          "base_uri": "https://localhost:8080/"
        },
        "id": "dOAtxZ94lLbE",
        "outputId": "42b3aa50-a11d-4c4d-9397-b8707398365c"
      },
      "execution_count": null,
      "outputs": [
        {
          "output_type": "stream",
          "name": "stdout",
          "text": [
            "✅ 1 videos found.\n",
            "🎥 First 5 videos: ['YouTubeClips']\n"
          ]
        }
      ]
    },
    {
      "cell_type": "code",
      "source": [
        "import os\n",
        "\n",
        "video_path = \"/content/drive/MyDrive/iit data/videos/YouTubeClips\"\n",
        "\n",
        "if os.path.isdir(video_path):\n",
        "    print(\"'YouTubeClips' is a folder. Checking contents...\")\n",
        "    print(os.listdir(video_path)[:5])  # Show first 5 files inside\n",
        "elif os.path.isfile(video_path):\n",
        "    print(\" 'YouTubeClips' is a single file! Needs extraction.\")\n",
        "else:\n",
        "    print(\" 'YouTubeClips' does not exist.\")"
      ],
      "metadata": {
        "colab": {
          "base_uri": "https://localhost:8080/"
        },
        "id": "973A85MZlY6m",
        "outputId": "6c4f847e-4cf4-492d-a1c4-800e5025ba04"
      },
      "execution_count": null,
      "outputs": [
        {
          "output_type": "stream",
          "name": "stdout",
          "text": [
            "📂 'YouTubeClips' is a folder. Checking contents...\n",
            "['mJ9eRvxjLc4_0_16.avi', 'MrMG15y3rWU_5_13.avi', '5CS4nLI2ZX8_50_59.avi', 'MF88IYF2MHY_25_59.avi', 'n2NLoLNecgI_168_178.avi']\n"
          ]
        }
      ]
    },
    {
      "cell_type": "code",
      "source": [
        "#  Check Extracted Frames\n",
        "frame_files = os.listdir(frame_output_folder)\n",
        "if len(frame_files) == 0:\n",
        "    print(\"No frames found! Check extraction process.\")\n",
        "else:\n",
        "    print(f\"{len(frame_files)} frames found.\")\n",
        "    print(frame_files[:5])  # Print first 5 frame names"
      ],
      "metadata": {
        "colab": {
          "base_uri": "https://localhost:8080/"
        },
        "id": "Gw7QpVuYjbEC",
        "outputId": "c6cdc1a4-39e5-4ff2-c1a9-ccc21cd14f71"
      },
      "execution_count": null,
      "outputs": [
        {
          "output_type": "stream",
          "name": "stdout",
          "text": [
            "✅ 20929 frames found.\n",
            "['mJ9eRvxjLc4_0_16_frame_0.jpg', 'mJ9eRvxjLc4_0_16_frame_29.jpg', 'mJ9eRvxjLc4_0_16_frame_58.jpg', 'mJ9eRvxjLc4_0_16_frame_87.jpg', 'mJ9eRvxjLc4_0_16_frame_116.jpg']\n"
          ]
        }
      ]
    },
    {
      "cell_type": "code",
      "source": [
        "video_folder = \"/content/drive/MyDrive/iit data/videos/YouTubeClips\""
      ],
      "metadata": {
        "id": "QbkICXSaljWn"
      },
      "execution_count": null,
      "outputs": []
    },
    {
      "cell_type": "code",
      "source": [
        "extract_frames(video_folder, frame_output_folder)"
      ],
      "metadata": {
        "colab": {
          "base_uri": "https://localhost:8080/"
        },
        "id": "iDpxJWtFlnw8",
        "outputId": "ca51c9ad-e848-45ee-f504-e64e6d26ecb5"
      },
      "execution_count": null,
      "outputs": [
        {
          "output_type": "stream",
          "name": "stdout",
          "text": [
            " Frames extracted for jCplbayVbtw_10_20.avi\n",
            " Frames extracted for jCplbayVbtw_28_38.avi\n",
            " Frames extracted for jcRCn7MeSbo_71_82.avi\n",
            " Frames extracted for jdAbpLooDgM_10_15.avi\n",
            " Frames extracted for Je3V7U5Ctj4_488_495.avi\n",
            " Frames extracted for jDFn-1lXJ98_71_80.avi\n",
            " Frames extracted for Je3V7U5Ctj4_504_511.avi\n",
            " Frames extracted for jD4o_Lmy6bU_117_137.avi\n",
            " Frames extracted for Je3V7U5Ctj4_558_563.avi\n",
            " Frames extracted for Je3V7U5Ctj4_569_576.avi\n",
            " Frames extracted for Je3V7U5Ctj4_582_587.avi\n",
            " Frames extracted for Je3V7U5Ctj4_634_639.avi\n",
            " Frames extracted for Je3V7U5Ctj4_760_765.avi\n",
            " Frames extracted for Je3V7U5Ctj4_768_773.avi\n",
            " Frames extracted for jfrrO5K_vKM_55_65.avi\n",
            " Frames extracted for Je3V7U5Ctj4_956_961.avi\n",
            " Frames extracted for Je3V7U5Ctj4_997_1004.avi\n",
            " Frames extracted for Jfu-WkuCgD0_140_150.avi\n",
            " Frames extracted for JhCvLmf9yr0_46_50.avi\n",
            " Frames extracted for JIKaIriiK8w_0_15.avi\n",
            " Frames extracted for jI58q6rcNLc_8_18.avi\n",
            " Frames extracted for Jj4uYHr65H8_28_35.avi\n",
            " Frames extracted for JIoiUNOXGaI_98_104.avi\n",
            " Frames extracted for JIoiUNOXGaI_34_41.avi\n",
            " Frames extracted for JIoiUNOXGaI_8_13.avi\n",
            " Frames extracted for jjl2ZMdFCsw_130_142.avi\n",
            " Frames extracted for jjl2ZMdFCsw_17_35.avi\n",
            " Frames extracted for JktNQQnLblQ_4_9.avi\n",
            " Frames extracted for JK1R9k1WDpc_6_15.avi\n",
            " Frames extracted for jlahRlo4jlU_30_36.avi\n",
            " Frames extracted for JM4913Fe-ic_4_15.avi\n",
            " Frames extracted for JledeVyklPw_1_6.avi\n",
            " Frames extracted for jLgmCY1fEE8_16_26.avi\n",
            " Frames extracted for jMO3jGQeqyk_3_6.avi\n",
            " Frames extracted for JnNe61UZsdM_42_51.avi\n",
            " Frames extracted for jmoT2we_rqo_0_5.avi\n",
            " Frames extracted for JMUAylpXzG0_45_62.avi\n",
            " Frames extracted for JnNe61UZsdM_78_88.avi\n",
            " Frames extracted for JntMAcTlOF0_50_70.avi\n",
            " Frames extracted for jPBxl9gFqNY_110_117.avi\n",
            " Frames extracted for JsD6uEZsIsU_1_47.avi\n",
            " Frames extracted for JpjAgSvr42k_0_12.avi\n",
            " Frames extracted for JsD6uEZsIsU_45_58.avi\n",
            " Frames extracted for jsEUFYhiqxU_121_128.avi\n",
            " Frames extracted for JsmHZlUgf1w_0_21.avi\n",
            " Frames extracted for jTaLGh_MKCM_5_20.avi\n",
            " Frames extracted for jTnrm338_KY_34_42.avi\n",
            " Frames extracted for jv-eV6jR3Qw_7_12.avi\n",
            " Frames extracted for jW77z3-SrO4_56_63.avi\n",
            " Frames extracted for jvxUeT1Nlb8_100_115.avi\n",
            " Frames extracted for JXSkYkiKO0I_112_116.avi\n",
            " Frames extracted for jxdubZzQrio_33_46.avi\n",
            " Frames extracted for Jxw16bqzVqE_18_28.avi\n",
            " Frames extracted for JXSkYkiKO0I_42_46.avi\n",
            " Frames extracted for JYNzY9jmsQQ_2_10.avi\n",
            " Frames extracted for K-czl524zxk_6_15.avi\n",
            " Frames extracted for jZ8X8e7eRVk_24_27.avi\n",
            " Frames extracted for k-SWy-sU8cE_5_10.avi\n",
            " Frames extracted for K-KVz3eqbnA_1_10.avi\n",
            " Frames extracted for K1ZM0LSLVw8_481_487.avi\n",
            " Frames extracted for k06Ge9ANKM8_5_16.avi\n",
            " Frames extracted for K1ZM0LSLVw8_488_494.avi\n",
            " Frames extracted for K2LxyytY3Dw_104_112.avi\n",
            " Frames extracted for k4hhWYtaQ14_0_10.avi\n",
            " Frames extracted for k5OKBX2e7xA_19_32.avi\n",
            " Frames extracted for K6xy6C-Hsa0_2_28.avi\n",
            " Frames extracted for k8l4ETsylVY_9_18.avi\n",
            " Frames extracted for kBjUDCyDCuI_20_26.avi\n",
            " Frames extracted for kBMsuhDvg88_45_64.avi\n",
            " Frames extracted for kEGmZDpZ_RE_248_293.avi\n",
            " Frames extracted for k9Brw_0gncU_14_33.avi\n",
            " Frames extracted for KeSQ5Rv7eH8_73_79.avi\n",
            " Frames extracted for kEGmZDpZ_RE_352_370.avi\n",
            " Frames extracted for kEGmZDpZ_RE_295_330.avi\n",
            " Frames extracted for KFt5Zz5Mwlo_12_30.avi\n",
            " Frames extracted for Kf8oZGHDTt4_4_13.avi\n",
            " Frames extracted for KIEWo_xJ5nU_0_7.avi\n",
            " Frames extracted for kI6MWZrl8v8_149_161.avi\n",
            " Frames extracted for kIZanu909lw_67_80.avi\n",
            " Frames extracted for kJY5BRCNAs4_3_6.avi\n",
            " Frames extracted for kKGehSw5ht8_39_45.avi\n",
            " Frames extracted for klFyrnrUSck_13_19.avi\n",
            " Frames extracted for klFyrnrUSck_25_36.avi\n",
            " Frames extracted for kk3TIio1-Uw_5_14.avi\n",
            " Frames extracted for klFyrnrUSck_42_46.avi\n",
            " Frames extracted for klFyrnrUSck_63_73.avi\n",
            " Frames extracted for klFyrnrUSck_79_85.avi\n",
            " Frames extracted for klFyrnrUSck_87_100.avi\n",
            " Frames extracted for klteYv1Uv9A_27_33.avi\n",
            " Frames extracted for Kms3EXosNS0_8_17.avi\n",
            " Frames extracted for KpmVL4ANieA_0_9.avi\n",
            " Frames extracted for kNHivduxQWg_0_14.avi\n",
            " Frames extracted for KPPCwmU5OHQ_227_238.avi\n",
            " Frames extracted for KPPCwmU5OHQ_424_430.avi\n",
            " Frames extracted for KPPCwmU5OHQ_480_486.avi\n",
            " Frames extracted for KPPCwmU5OHQ_258_266.avi\n",
            " Frames extracted for KPPCwmU5OHQ_467_472.avi\n",
            " Frames extracted for KPPCwmU5OHQ_56_62.avi\n",
            " Frames extracted for Kqb-mmkEWqU_1_5.avi\n",
            " Frames extracted for KqKUXRHHkCc_101_105.avi\n",
            " Frames extracted for kquB3rIgfGk_197_202.avi\n",
            " Frames extracted for kquB3rIgfGk_525_532.avi\n",
            " Frames extracted for kquB3rIgfGk_537_544.avi\n",
            " Frames extracted for kquB3rIgfGk_640_645.avi\n",
            " Frames extracted for krAk8WPZRL4_207_212.avi\n",
            " Frames extracted for KrBeBabazDU_15_20.avi\n",
            " Frames extracted for kRNHJSc4AXE_220_228.avi\n",
            " Frames extracted for kSzS_lFtJDk_55_70.avi\n",
            " Frames extracted for KUc1cWKXjDc_20_30.avi\n",
            " Frames extracted for kuNQpRTc-hA_126_135.avi\n",
            " Frames extracted for kWLNZzuo3do_147_153.avi\n",
            " Frames extracted for kWLNZzuo3do_145_151.avi\n",
            " Frames extracted for kWLNZzuo3do_152_164.avi\n",
            " Frames extracted for kWLNZzuo3do_17_23.avi\n",
            " Frames extracted for kWLNZzuo3do_192_196.avi\n",
            " Frames extracted for kWLNZzuo3do_154_165.avi\n",
            " Frames extracted for kWLNZzuo3do_167_181.avi\n",
            " Frames extracted for kWLNZzuo3do_206_213.avi\n",
            " Frames extracted for kWLNZzuo3do_217_222.avi\n",
            " Frames extracted for kWLNZzuo3do_222_227.avi\n",
            " Frames extracted for kWLNZzuo3do_228_232.avi\n",
            " Frames extracted for kWLNZzuo3do_24_31.avi\n",
            " Frames extracted for kWLNZzuo3do_251_260.avi\n",
            " Frames extracted for kWLNZzuo3do_25_32.avi\n",
            " Frames extracted for kWLNZzuo3do_262_270.avi\n",
            " Frames extracted for kWLNZzuo3do_31_37.avi\n",
            " Frames extracted for kWLNZzuo3do_38_42.avi\n",
            " Frames extracted for kWLNZzuo3do_48_53.avi\n",
            " Frames extracted for kWLNZzuo3do_56_62.avi\n",
            " Frames extracted for kWLNZzuo3do_38_47.avi\n",
            " Frames extracted for kWLNZzuo3do_77_83.avi\n",
            " Frames extracted for kWLNZzuo3do_76_80.avi\n",
            " Frames extracted for Kxa0mnDj0bs_113_124.avi\n",
            " Frames extracted for Kxa0mnDj0bs_15_20.avi\n",
            " Frames extracted for kWLNZzuo3do_86_93.avi\n",
            " Frames extracted for kZfBt5me3Pg_2_7.avi\n",
            " Frames extracted for l57mQZvDaL4_10_30.avi\n",
            " Frames extracted for kzyFBlNRohs_82_88.avi\n",
            " Frames extracted for l5JJ2n2ggiQ_319_327.avi\n",
            " Frames extracted for L6dEUQ6WiHY_136_142.avi\n",
            " Frames extracted for L8h2DazQZJY_0_10.avi\n",
            " Frames extracted for L6dEUQ6WiHY_171_186.avi\n",
            " Frames extracted for labytsb3gfI_146_154.avi\n",
            " Frames extracted for L9wD3kw-8FE_65_73.avi\n",
            " Frames extracted for LacBy2NT3YQ_12_17.avi\n",
            " Frames extracted for lAznAeFFldg_6_10.avi\n",
            " Frames extracted for lB1UPJ4leqs_0_6.avi\n",
            " Frames extracted for lB1UPJ4leqs_1_6.avi\n",
            " Frames extracted for lc9bA-hvqHU_1_6.avi\n",
            " Frames extracted for lcu-DwrnYY8_2_5.avi\n",
            " Frames extracted for lb8J2zCQTlo_3_8.avi\n",
            " Frames extracted for lexLAjh8fPA_27_31.avi\n",
            " Frames extracted for LEz0puaKNTk_38_48.avi\n",
            " Frames extracted for LF51fban_x4_300_325.avi\n",
            " Frames extracted for lFdg5CWMTt0_24_28.avi\n",
            " Frames extracted for lfGlDg47How_110_115.avi\n",
            " Frames extracted for lfGlDg47How_361_367.avi\n",
            " Frames extracted for lFyPUgJCmtU_100_110.avi\n",
            " Frames extracted for lfGlDg47How_93_98.avi\n",
            " Frames extracted for lGk1MA6YP-M_36_48.avi\n",
            " Frames extracted for Li3umATsU0E_1_5.avi\n",
            " Frames extracted for ljGcQocjSs4_38_60.avi\n",
            " Frames extracted for LjimLwAhAOQ_5_15.avi\n",
            " Frames extracted for lKADopH3qFY_0_10.avi\n",
            " Frames extracted for LLkehH86ABY_30_36.avi\n",
            " Frames extracted for lm0z7eLsbbw_9_23.avi\n",
            " Frames extracted for lmCrIZeob4w_23_26.avi\n",
            " Frames extracted for lKpGc3SCSVw_12_20.avi\n",
            " Frames extracted for LQ-jv8g1YVI_1_6.avi\n",
            " Frames extracted for lo4KcsBN--A_0_10.avi\n",
            " Frames extracted for LqPIBHAmt4E_22_30.avi\n",
            " Frames extracted for Lr8ds5iY5uk_8_15.avi\n",
            " Frames extracted for lrZxpneS6Gk_0_12.avi\n",
            " Frames extracted for lR8RrUBhCQg_5_15.avi\n",
            " Frames extracted for lsanQj2yacs_80_85.avi\n",
            " Frames extracted for lsanQj2yacs_102_108.avi\n",
            " Frames extracted for lSnWhsmlGec_5_10.avi\n",
            " Frames extracted for LSuVRWPoHr0_0_37.avi\n",
            " Frames extracted for Lt1JijkvSKk_0_10.avi\n",
            " Frames extracted for LuQ0KiMMhoI_49_64.avi\n",
            " Frames extracted for lvFYUmDSOvU_34_38.avi\n",
            " Frames extracted for Lw0eGsYxElA_11_14.avi\n",
            " Frames extracted for lv8d_qLLqsk_1_20.avi\n",
            " Frames extracted for lw7pTwpx0K0_38_48.avi\n",
            " Frames extracted for LwicaralvS0_90_104.avi\n",
            " Frames extracted for LwvyrDxM2G0_0_11.avi\n",
            " Frames extracted for Ly5D0z9gKtc_15_20.avi\n",
            " Frames extracted for Lyp7MiaCXNE_114_120.avi\n",
            " Frames extracted for LYSPQqUvNO0_43_57.avi\n",
            " Frames extracted for LyYJiKxHZz0_0_10.avi\n",
            " Frames extracted for m1NR0uNNs5Y_104_110.avi\n",
            " Frames extracted for m1c04pCYGxA_57_64.avi\n",
            " Frames extracted for m1NR0uNNs5Y_123_129.avi\n",
            " Frames extracted for m1NR0uNNs5Y_160_166.avi\n",
            " Frames extracted for m1NR0uNNs5Y_192_198.avi\n",
            " Frames extracted for m1NR0uNNs5Y_224_230.avi\n",
            " Frames extracted for m1NR0uNNs5Y_273_280.avi\n",
            " Frames extracted for m1NR0uNNs5Y_73_78.avi\n",
            " Frames extracted for m1NR0uNNs5Y_57_64.avi\n",
            " Frames extracted for m4D72WXFd8s_557_564.avi\n",
            " Frames extracted for m1NR0uNNs5Y_88_94.avi\n",
            " Frames extracted for m7x8uIdg2XU_67_73.avi\n",
            " Frames extracted for M4It3DrhbE0_13_22.avi\n",
            " Frames extracted for mbesJaS6vwg_187_195.avi\n",
            " Frames extracted for M_TP6UTrh30_343_358.avi\n",
            " Frames extracted for mCrRHP4LFmo_24_40.avi\n",
            " Frames extracted for MdOAr_4FJvc_5_15.avi\n",
            " Frames extracted for me1D1WZ0yNM_120_124.avi\n",
            " Frames extracted for mF6ijhSrbBQ_32_40.avi\n",
            " Frames extracted for mFCf8lLXrUc_25_35.avi\n",
            " Frames extracted for mfJjIOfj6D8_3_10.avi\n",
            " Frames extracted for MF88IYF2MHY_25_59.avi\n",
            " Frames extracted for mFCf8lLXrUc_36_57.avi\n",
            " Frames extracted for MHIVmf42Ao4_31_36.avi\n",
            " Frames extracted for mHv4iJ9Yr1g_10_16.avi\n",
            " Frames extracted for MHWxjWwAbwM_10_25.avi\n",
            " Frames extracted for MICawzo1MqI_3_13.avi\n",
            " Frames extracted for mJ9eRvxjLc4_0_16.avi\n",
            " Frames extracted for MMnnqzOoMF0_68_72.avi\n",
            " Frames extracted for mmSQTI6gMNQ_120_128.avi\n",
            " Frames extracted for MJNStEgDKXU_3_10.avi\n",
            " Frames extracted for MJoxGpEswOI_9_16.avi\n",
            " Frames extracted for mmSQTI6gMNQ_15_21.avi\n",
            " Frames extracted for MoqC84sXu88_47_59.avi\n",
            " Frames extracted for mOZkcBcWR8o_6_12.avi\n",
            " Frames extracted for MrMG15y3rWU_5_13.avi\n",
            " Frames extracted for MPuKVz3sjBA_1_12.avi\n",
            " Frames extracted for MqS82kBtUHQ_0_12.avi\n",
            " Frames extracted for Ms3QdGIzltU_10_20.avi\n",
            " Frames extracted for Ms3QdGIzltU_1_16.avi\n",
            " Frames extracted for MrQd1zUVRUM_103_110.avi\n",
            " Frames extracted for msCidKHOh74_392_399.avi\n",
            " Frames extracted for msCidKHOh74_410_418.avi\n",
            " Frames extracted for MSrJTeKNzdI_32_36.avi\n",
            " Frames extracted for MTjrZthHwJQ_2_11.avi\n",
            " Frames extracted for mtrCf667KDk_134_176.avi\n",
            " Frames extracted for MTkGPfMRXtc_5_21.avi\n",
            " Frames extracted for Mutb8BHFvzk_15_20.avi\n",
            " Frames extracted for mv89psg6zh4_33_46.avi\n",
            " Frames extracted for MW21lp833Vo_143_149.avi\n",
            " Frames extracted for muI1BFsdbdo_33_45.avi\n",
            " Frames extracted for MW21lp833Vo_8_16.avi\n",
            " Frames extracted for MwOEK-KXSPc_1_10.avi\n",
            " Frames extracted for MWvCcwTw7Ac_154_181.avi\n",
            " Frames extracted for MWvCcwTw7Ac_78_86.avi\n",
            " Frames extracted for mYzajpeAWuA_100_112.avi\n",
            " Frames extracted for MWzeInQaUk4_12_20.avi\n",
            " Frames extracted for MY-rGamtAJc_6_22.avi\n",
            " Frames extracted for mZVPkPqwzR4_38_45.avi\n",
            " Frames extracted for n016q1w8Q30_2_11.avi\n",
            " Frames extracted for N2Cm0SLr0ZE_18_29.avi\n",
            " Frames extracted for N3A7944_UJw_63_70.avi\n",
            " Frames extracted for n2NLoLNecgI_168_178.avi\n",
            " Frames extracted for N5wsl86P37Q_1_15.avi\n",
            " Frames extracted for n6U-TGahwvs_100_110.avi\n",
            " Frames extracted for N6SglZopfmk_97_111.avi\n",
            " Frames extracted for n_Z0-giaspE_270_278.avi\n",
            " Frames extracted for n_Z0-giaspE_379_387.avi\n",
            " Frames extracted for n_Z0-giaspE_168_193.avi\n",
            " Frames extracted for n_Z0-giaspE_437_447.avi\n",
            " Frames extracted for n_Z0-giaspE_62_78.avi\n",
            " Frames extracted for NaX51emUDn4_0_20.avi\n",
            " Frames extracted for nb12bAaKzvA_0_10.avi\n",
            " Frames extracted for nau1vCzyFQ4_37_54.avi\n",
            " Frames extracted for nBFhvrAOFqY_23_29.avi\n",
            " Frames extracted for nBFhvrAOFqY_89_103.avi\n",
            " Frames extracted for nBJV56WUDng_38_47.avi\n",
            " Frames extracted for NbOlG7THecM_25_34.avi\n",
            " Frames extracted for nc0fVlaTYEs_34_44.avi\n",
            " Frames extracted for nc8hwLaOyZU_1_19.avi\n",
            " Frames extracted for nCtZFOYAlvQ_44_49.avi\n",
            " Frames extracted for nd0ToNwccl4_12_17.avi\n",
            " Frames extracted for Ne87egvJnWo_0_3.avi\n",
            " Frames extracted for NFxWwI0J3As_78_84.avi\n",
            " Frames extracted for Nd45qJn61Dw_0_10.avi\n",
            " Frames extracted for ngHDYzhDBk4_24_29.avi\n",
            " Frames extracted for ngHDYzhDBk4_5_14.avi\n",
            " Frames extracted for nHZsE7T7hwI_13_23.avi\n",
            " Frames extracted for nhm_APPwhWk_6_12.avi\n",
            " Frames extracted for NjblUomxFQo_100_108.avi\n",
            " Frames extracted for NjCqtzZ3OtU_303_307.avi\n",
            " Frames extracted for NjCqtzZ3OtU_62_67.avi\n",
            " Frames extracted for nlU3crMsbWI_19_23.avi\n",
            " Frames extracted for nLvX-erABqY_67_72.avi\n",
            " Frames extracted for nLz0QuerH1c_8_15.avi\n",
            " Frames extracted for NKtfKR4GNjU_0_20.avi\n",
            " Frames extracted for nMBSDpB3WB8_5_14.avi\n",
            " Frames extracted for NMlKMfiHSho_1_15.avi\n",
            " Frames extracted for NNYLo1OeZ-Q_48_54.avi\n",
            " Frames extracted for NoCgvH4xZHo_240_251.avi\n",
            " Frames extracted for NoCgvH4xZHo_56_63.avi\n",
            " Frames extracted for nohvigNMsbo_199_207.avi\n",
            " Frames extracted for NoCgvH4xZHo_68_74.avi\n",
            " Frames extracted for nrZyPuRd5pU_85_92.avi\n",
            " Frames extracted for nPj6EcVGoUY_7_15.avi\n",
            " Frames extracted for nS6oQxX_Qi8_2_12.avi\n",
            " Frames extracted for nq4hG6qgyPs_184_195.avi\n",
            " Frames extracted for nq4hG6qgyPs_240_251.avi\n",
            " Frames extracted for nTasT5h0LEg_12_14.avi\n",
            " Frames extracted for nq4hG6qgyPs_370_377.avi\n",
            " Frames extracted for nTasT5h0LEg_40_43.avi\n",
            " Frames extracted for nTUONeDqhdk_10_15.avi\n",
            " Frames extracted for nULE40HEWpA_5_11.avi\n",
            " Frames extracted for NUYu9c9XsgY_7_21.avi\n",
            " Frames extracted for NV6pq1W-I4g_7_16.avi\n",
            " Frames extracted for nV3Wv8iHp4U_0_38.avi\n",
            " Frames extracted for NVGGgncVq-4_111_117.avi\n",
            " Frames extracted for NVGGgncVq-4_12_20.avi\n",
            " Frames extracted for nwk4m329bLw_2_10.avi\n",
            " Frames extracted for nYwbAb0QvBE_195_210.avi\n",
            " Frames extracted for nZSFn51l3hc_660_666.avi\n"
          ]
        }
      ]
    },
    {
      "cell_type": "code",
      "source": [
        "import os\n",
        "\n",
        "def create_caption_mapping(annotation_file, frame_output_folder):\n",
        "    #  Step 1: Load all frame names once (FAST lookup with a dictionary)\n",
        "    frame_dict = {os.path.splitext(frame)[0]: frame for frame in os.listdir(frame_output_folder)}\n",
        "    captions = {}\n",
        "\n",
        "    # Step 2: Process annotations\n",
        "    with open(annotation_file, \"r\") as f:\n",
        "        for line in f:\n",
        "            parts = line.strip().split(\"\\t\")\n",
        "            if len(parts) >= 2:\n",
        "                video_file = parts[0].strip()\n",
        "                caption = parts[1].strip()\n",
        "                frame_prefix = os.path.splitext(video_file)[0]\n",
        "\n",
        "                # Instead of looping, just check if frame exists in dictionary\n",
        "                if frame_prefix in frame_dict:\n",
        "                    captions[frame_dict[frame_prefix]] = caption\n",
        "\n",
        "    print(f\"Captions mapped: {len(captions)} frames found.\")\n",
        "    return captions\n",
        "\n",
        "# Run function\n",
        "captions = create_caption_mapping(\"/content/drive/MyDrive/iit data/annotations.txt\",\n",
        "                                  \"/content/drive/MyDrive/iit data/frames\")\n"
      ],
      "metadata": {
        "colab": {
          "base_uri": "https://localhost:8080/"
        },
        "id": "50IDT0b2jbBr",
        "outputId": "ceec0ea8-b659-4492-b187-2a5a30b2bad0"
      },
      "execution_count": null,
      "outputs": [
        {
          "output_type": "stream",
          "name": "stdout",
          "text": [
            "✅ Captions mapped: 0 frames found.\n"
          ]
        }
      ]
    },
    {
      "cell_type": "code",
      "source": [
        "# Save Captions to CSV\n",
        "df = pd.DataFrame(list(captions.items()), columns=[\"Frame\", \"Caption\"])\n",
        "df.to_csv(os.path.join(base_folder, \"captions.csv\"), index=False)\n",
        "print(f\"Captions saved to {base_folder}captions.csv\")"
      ],
      "metadata": {
        "colab": {
          "base_uri": "https://localhost:8080/"
        },
        "id": "gZrboeuwja_i",
        "outputId": "54d9329b-f2a9-4ddc-c954-2562f0dbc470"
      },
      "execution_count": null,
      "outputs": [
        {
          "output_type": "stream",
          "name": "stdout",
          "text": [
            "✅ Captions saved to /content/drive/MyDrive/iit data/captions.csv\n"
          ]
        }
      ]
    },
    {
      "cell_type": "code",
      "source": [
        "# Load CLIP Model\n",
        "model = CLIPModel.from_pretrained(\"openai/clip-vit-base-patch32\")\n",
        "processor = CLIPProcessor.from_pretrained(\"openai/clip-vit-base-patch32\")\n",
        "tokenizer = CLIPTokenizer.from_pretrained(\"openai/clip-vit-base-patch32\")"
      ],
      "metadata": {
        "colab": {
          "base_uri": "https://localhost:8080/"
        },
        "id": "e_ppdr4ShJEd",
        "outputId": "6c113c8e-3c78-4d38-f297-71f4c240f567"
      },
      "execution_count": null,
      "outputs": [
        {
          "output_type": "stream",
          "name": "stderr",
          "text": [
            "/usr/local/lib/python3.11/dist-packages/huggingface_hub/utils/_auth.py:94: UserWarning: \n",
            "The secret `HF_TOKEN` does not exist in your Colab secrets.\n",
            "To authenticate with the Hugging Face Hub, create a token in your settings tab (https://huggingface.co/settings/tokens), set it as secret in your Google Colab and restart your session.\n",
            "You will be able to reuse this secret in all of your notebooks.\n",
            "Please note that authentication is recommended but still optional to access public models or datasets.\n",
            "  warnings.warn(\n",
            "Using a slow image processor as `use_fast` is unset and a slow processor was saved with this model. `use_fast=True` will be the default behavior in v4.50, even if the model was saved with a slow processor. This will result in minor differences in outputs. You'll still be able to use a slow processor with `use_fast=False`.\n"
          ]
        }
      ]
    },
    {
      "cell_type": "code",
      "source": [
        "# Preprocessing Functions\n",
        "transform = transforms.Compose([\n",
        "    transforms.Resize((224, 224)),\n",
        "    transforms.ToTensor()\n",
        "])\n",
        "\n",
        "def preprocess_image(image_path):\n",
        "    img = Image.open(image_path).convert(\"RGB\")\n",
        "    img_tensor = transform(img).unsqueeze(0)  # Add batch dimension\n",
        "    return img_tensor\n",
        "\n",
        "def preprocess_text(text):\n",
        "    tokens = tokenizer(text, return_tensors=\"pt\")[\"input_ids\"]\n",
        "    return tokens"
      ],
      "metadata": {
        "id": "28ctC7urhJB9"
      },
      "execution_count": null,
      "outputs": []
    },
    {
      "cell_type": "code",
      "source": [
        "# Image Search Function\n",
        "def image_search(query, frame_folder=frame_output_folder, top_k=5):\n",
        "    query_tokens = preprocess_text(query)\n",
        "    text_features = model.get_text_features(input_ids=query_tokens)\n",
        "\n",
        "    frame_scores = []\n",
        "\n",
        "    for frame in os.listdir(frame_folder):\n",
        "        if frame.endswith(\".jpg\"):\n",
        "            img_path = os.path.join(frame_folder, frame)\n",
        "            img_tensor = preprocess_image(img_path)\n",
        "            image_features = model.get_image_features(pixel_values=img_tensor)\n",
        "            similarity = torch.cosine_similarity(image_features, text_features)\n",
        "            frame_scores.append((frame, similarity.item(), img_path))\n",
        "\n",
        "    frame_scores.sort(key=lambda x: x[1], reverse=True)\n",
        "    top_results = frame_scores[:top_k]\n",
        "\n",
        "    print(\"\\n**Top Search Results:**\")\n",
        "    for frame, score, img_path in top_results:\n",
        "        print(f\" {frame} - Similarity: {score:.4f} - Path: {img_path}\")\n",
        "\n",
        "        try:\n",
        "            img = Image.open(img_path)\n",
        "            display(img)  # Show image inside Colab\n",
        "        except Exception as e:\n",
        "            print(f\"Error displaying image: {e}\")"
      ],
      "metadata": {
        "id": "dtZ1EJfVboFx"
      },
      "execution_count": null,
      "outputs": []
    },
    {
      "cell_type": "code",
      "source": [
        "# Run an Example Search Query\n",
        "image_search(\"A person playing guitar\")"
      ],
      "metadata": {
        "id": "hBRrCm0RboB3"
      },
      "execution_count": null,
      "outputs": []
    }
  ]
}